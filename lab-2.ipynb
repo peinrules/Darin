{
 "cells": [
  {
   "cell_type": "markdown",
   "metadata": {},
   "source": [
    "# L2 – Multilayer perceptron\n",
    "\n",
    "### PyTorch\n",
    "1. [Installing PyTorch](https://pytorch.org/get-started/locally/)\n",
    "2. [What is PyTorch?](https://pytorch.org/tutorials/beginner/blitz/tensor_tutorial.html#sphx-glr-beginner-blitz-tensor-tutorial-py)\n",
    "3. [Autograd](https://pytorch.org/tutorials/beginner/blitz/autograd_tutorial.html#sphx-glr-beginner-blitz-autograd-tutorial-py)\n",
    "4. [Useful examples](https://pytorch.org/tutorials/beginner/pytorch_with_examples.html)\n",
    "5. [Mnist example](https://habr.com/company/otus/blog/358096/)\n",
    "\n",
    "\n",
    "### One more thing\n",
    "1. [Jupyter tutorial](https://habrahabr.ru/company/wunderfund/blog/316826/)\n",
    "2. [Plot.ly](https://plot.ly/python/)\n",
    "3. [Widgets](http://jupyter.org/widgets.html)"
   ]
  },
  {
   "cell_type": "code",
   "execution_count": 1,
   "metadata": {},
   "outputs": [],
   "source": [
    "import matplotlib.pyplot as plt\n",
    "import numpy as np"
   ]
  },
  {
   "cell_type": "markdown",
   "metadata": {},
   "source": [
    "### 1. Linear multi-classification problem\n",
    "\n",
    "We have already learned binary linear classifier\n",
    "$$y = \\text{sign}(w^Tx).$$\n",
    "There are [several approaches](https://en.wikipedia.org/wiki/Multiclass_classification) to solve the problem of multi-class classification. For example [reduction](https://en.wikipedia.org/wiki/Multiclass_classification#Transformation_to_Binary) of problem to binary classifier or [modification](https://en.wikipedia.org/wiki/Support_vector_machine#Multiclass_SVM) of the known model. However we are interested in approaches that is applied in neural networks.\n",
    "\n",
    "For each class $c \\in 1, \\dots, |C|$ we have an individual row $w_i$ of matrix $W$. Then the probability of $x$ belonging to a particular class is equal to\n",
    "$$p_i = \\frac{\\exp(w^T_ix)}{\\sum_j \\exp(w^T_jx)}.$$\n",
    "This is nothing, but [softmax](https://en.wikipedia.org/wiki/Softmax_function) function of $Wx$.\n",
    "$$(p_1, \\dots, p_{|C|}) = \\text{softmax}(Wx).$$\n",
    "\n",
    "If you look closely, $\\text{softmax}$ is a more general variant of sigmoid. To see this, it suffices to consider the case $|C|=2$. As usual the training can be reduced to minimization of the empirical risk, namely, optimization problem\n",
    "$$\\arg\\min_W Q(W) = \\arg\\min_W -\\frac{1}{\\mathcal{l}}\\sum_y\\sum_i [y = i] \\cdot \\ln(p_i(W)).$$\n",
    "Actually, the maximization of the log-likelihood is written above.\n",
    "\n",
    "#### Exercises\n",
    "1. Find $\\frac{dQ}{dW}$ in matrix form (hint: start with $\\frac{dQ}{dw_i}$ for begining).\n",
    "2. Please plot several mnist images (e.g using grid 5x5).\n",
    "3. Train linear multi-label classifier for [mnist](https://www.kaggle.com/c/digit-recognizer) dataset (possible, [this tutorial](https://habr.com/company/otus/blog/358096/) can help you).\n",
    "4. Chek accuracy on train and validation sets (visualize resulted graph)."
   ]
  },
  {
   "cell_type": "markdown",
   "metadata": {},
   "source": [
    "Let's prove 1.: \n",
    "\n",
    "$$\\{-{1\\over l} \\sum\\limits_y \\sum\\limits_i [y=i] \\cdot \\ln(\\frac{e^{w_i^Tx}}{\\sum\\limits_k e^{w_k^Tx}}) \\}'_{w_j} = $$\n",
    "\n",
    "$$-{1\\over l} \\frac{\\sum\\limits_k e^{w_k^Tx}}{e^{w_j^Tx}} \\frac{{\\sum\\limits_k e^{w_k^Tx}}xe^{w_j^Tx} - xe^{w_j^Tx}e^{w_j^Tx}}{(\\sum\\limits_k e^{w_k^Tx})^2} + {1\\over l}  \\sum\\limits_{i\\neq j}  \\frac{\\sum\\limits_k e^{w_k^Tx}}{e^{w_i^Tx}} \\frac{xe^{w_i^Tx}e^{w_j^Tx}}{(\\sum\\limits_k e^{w_k^Tx})^2}$$\n",
    "\n",
    "$$-{x\\over l} \\frac{{\\sum\\limits_{k\\neq j} e^{w_k^Tx}}}{\\sum\\limits_k e^{w_k^Tx}} + {x\\over l}  \\sum\\limits_{i\\neq j}  \\frac{e^{w_j^Tx}}{\\sum\\limits_k e^{w_k^Tx}} = 0$$\n",
    "\n",
    "So $\\frac{\\partial Q}{\\partial W} = 0$"
   ]
  },
  {
   "cell_type": "markdown",
   "metadata": {},
   "source": [
    "### MNIST load"
   ]
  },
  {
   "cell_type": "code",
   "execution_count": 2,
   "metadata": {},
   "outputs": [],
   "source": [
    "from mnist import MNIST\n",
    "\n",
    "mndata = MNIST('samples')\n",
    "trainFeatures, trainLabels = mndata.load_training()\n",
    "testFeatures, testLabels = mndata.load_testing()\n"
   ]
  },
  {
   "cell_type": "markdown",
   "metadata": {},
   "source": [
    "## Plotting MNIST"
   ]
  },
  {
   "cell_type": "code",
   "execution_count": 3,
   "metadata": {},
   "outputs": [
    {
     "data": {
      "image/png": "[encoded data removed]",
      "text/plain": [
       "<matplotlib.figure.Figure at 0x7fce48dcfc50>"
      ]
     },
     "metadata": {},
     "output_type": "display_data"
    }
   ],
   "source": [
    "fig=plt.figure(figsize=(28, 28))\n",
    "\n",
    "for temp in range(10):\n",
    "    curData = np.zeros([28, 28])\n",
    "    for i in range(784):\n",
    "        curData[i // 28][i % 28] = trainFeatures[temp][i]\n",
    "    fig.add_subplot(28, 28, temp + 1)\n",
    "    plt.imshow(curData, cmap='gray')\n",
    "plt.show()"
   ]
  },
  {
   "cell_type": "code",
   "execution_count": 4,
   "metadata": {},
   "outputs": [],
   "source": [
    "import torch.nn as nn\n",
    "import torch.optim as optim\n",
    "import torch\n",
    "import torch.nn.functional as F\n"
   ]
  },
  {
   "cell_type": "code",
   "execution_count": 5,
   "metadata": {},
   "outputs": [],
   "source": [
    "def train(epoch, trainFeatures, trainLabels):\n",
    "    optimizer = optim.SGD(net.parameters(), lr = 0.01, momentum=0.9)\n",
    "    data = np.asarray(trainFeatures)\n",
    "    data = torch.from_numpy(data)\n",
    "    data = data.float()\n",
    "    \n",
    "    target = np.asarray(trainLabels)\n",
    "    target = torch.from_numpy(target)\n",
    "    target = target.long()\n",
    "    for i in range(epoch):\n",
    "        #print(i, end =' ')\n",
    "        optimizer.zero_grad()\n",
    "        output = net(data)\n",
    "        #output = output.float()\n",
    "        criterion = nn.CrossEntropyLoss()\n",
    "        loss = criterion(output, target)\n",
    "        loss.backward()\n",
    "        optimizer.step()\n",
    "    print(\"Train finished.\")"
   ]
  },
  {
   "cell_type": "code",
   "execution_count": 6,
   "metadata": {},
   "outputs": [],
   "source": [
    "class TestNet(nn.Module):\n",
    "    def __init__(self):\n",
    "        super(TestNet, self).__init__()\n",
    "        self.fc1 = nn.Linear(784, 100)\n",
    "        self.fc2 = nn.Linear(100, 10)\n",
    "    def forward(self, x):\n",
    "        x = F.relu(self.fc1(x))\n",
    "        x = F.relu(self.fc2(x))\n",
    "        return F.softmax(x, dim=1)\n"
   ]
  },
  {
   "cell_type": "markdown",
   "metadata": {},
   "source": [
    "### Accuracy, depending on epochs number"
   ]
  },
  {
   "cell_type": "code",
   "execution_count": 7,
   "metadata": {},
   "outputs": [
    {
     "name": "stdout",
     "output_type": "stream",
     "text": [
      "Train finished.\n",
      "We have 10.780000000000001% accuracy with 1 epoches.\n",
      "Train finished.\n",
      "We have 17.52% accuracy with 5 epoches.\n",
      "Train finished.\n",
      "We have 40.910000000000004% accuracy with 10 epoches.\n",
      "Train finished.\n",
      "We have 28.63% accuracy with 50 epoches.\n",
      "Train finished.\n",
      "We have 64.98% accuracy with 100 epoches.\n"
     ]
    }
   ],
   "source": [
    "epoches = [1, 5, 10, 50, 100]\n",
    "accuracy = []\n",
    "for epochN in epoches:\n",
    "    net = TestNet()\n",
    "    train(epochN, trainFeatures, trainLabels)\n",
    "    outputs = net(torch.from_numpy(np.asarray(testFeatures)).float())\n",
    "    _, predicted = torch.max(outputs, 1)\n",
    "    predicted = predicted.numpy()\n",
    "    correct, total = 0, 0\n",
    "    for i in range(len(predicted)):\n",
    "        if testLabels[i] == predicted[i]:\n",
    "            correct += 1\n",
    "        total += 1\n",
    "\n",
    "    print(\"We have \", correct/total * 100, \"% accuracy with \", epochN, \" epoches.\", sep='')\n",
    "    accuracy.append(correct/total * 100)\n"
   ]
  },
  {
   "cell_type": "markdown",
   "metadata": {},
   "source": [
    "#### After such clear resluts we ended up at 100 epoches and gonna start to test some different activation functions and probably more layers."
   ]
  },
  {
   "cell_type": "markdown",
   "metadata": {},
   "source": [
    "Let's briefly touch on themes of regularization. As was discussed before, there are different approaches. We focus on the modification of loss function.\n",
    "\n",
    "$$\\arg\\min_W -\\frac{1}{\\mathcal{l}}\\sum_y\\sum_i [y = i] \\cdot \\ln(p_i(W)) + \\lambda_1 L_1(W) + \\lambda_2 L_2(W)$$\n",
    "\n",
    "1. $L_1(W) = sum_{i,j} |w_{i,j}|$ - sparsify weights (force to not use uncorrelated features)\n",
    "2. $L_2(W) = sum_{i,j} w_{i,j}^2$ - minimize weights (force to not overfit)\n",
    "\n",
    "#### Exercises\n",
    "1. Train model again using both type of regularization.\n",
    "2. Plot matrix of weights.\n",
    "3. Which pixels have zero weights? What does it mean?\n",
    "4. Have you improved accuracy on validation?"
   ]
  },
  {
   "cell_type": "code",
   "execution_count": 8,
   "metadata": {},
   "outputs": [],
   "source": [
    "class L1L2Net(nn.Module):\n",
    "    def __init__(self):\n",
    "        super(L1L2Net, self).__init__()\n",
    "        self.fc1 = nn.Linear(784, 100)\n",
    "        self.fc2 = nn.Linear(100, 10)\n",
    "    def forward(self, x):\n",
    "        x = F.relu(self.fc1(x))\n",
    "        x = F.relu(self.fc2(x))\n",
    "        return F.softmax(x, dim=1)"
   ]
  },
  {
   "cell_type": "markdown",
   "metadata": {},
   "source": [
    "### Added L1\\L2 regularisations as lossFunc parameters"
   ]
  },
  {
   "cell_type": "code",
   "execution_count": 9,
   "metadata": {},
   "outputs": [],
   "source": [
    "def trainL1L2(epoch, trainFeatures, trainLabels):\n",
    "    optimizer = optim.SGD(net.parameters(), lr = 0.01, momentum=0.9)\n",
    "    data = np.asarray(trainFeatures)\n",
    "    data = torch.from_numpy(data)\n",
    "    data = data.float()\n",
    "    \n",
    "    target = np.asarray(trainLabels)\n",
    "    target = torch.from_numpy(target)\n",
    "    target = target.long()\n",
    "    for i in range(epoch):\n",
    "        optimizer.zero_grad()\n",
    "        output = net(data)\n",
    "\n",
    "        criterion = nn.CrossEntropyLoss()\n",
    "        loss = criterion(output, target)\n",
    "        l1Loss = 0\n",
    "        l2Loss = 0\n",
    "\n",
    "        lambda1 = 0.002\n",
    "        lambda2 = 0.002\n",
    "        for param in net.fc1.weight:\n",
    "            l1Loss += torch.sum(torch.abs(param))\n",
    "            l2Loss += torch.sum(param ** 2)\n",
    "        for param in net.fc2.weight:\n",
    "            l1Loss += torch.sum(torch.abs(param))\n",
    "            l2Loss += torch.sum(param ** 2)    \n",
    "        loss += lambda1 * l1Loss + lambda2 * l2Loss\n",
    "        \n",
    "        loss.backward()\n",
    "        optimizer.step()\n",
    "    print(\"Train finished.\")\n",
    "    return net.fc2.weight"
   ]
  },
  {
   "cell_type": "code",
   "execution_count": 10,
   "metadata": {},
   "outputs": [
    {
     "name": "stdout",
     "output_type": "stream",
     "text": [
      "Train finished.\n",
      "We have 83.12% accuracy with 100 epoches and L1\\L2 regularisation\n"
     ]
    }
   ],
   "source": [
    "epoches = 100\n",
    "net = L1L2Net()\n",
    "weightMatrix = trainL1L2(epoches, trainFeatures, trainLabels)\n",
    "outputs = net(torch.from_numpy(np.asarray(testFeatures)).float())\n",
    "_, predicted = torch.max(outputs, 1)\n",
    "predicted = predicted.numpy()\n",
    "correct, total = 0, 0\n",
    "for i in range(len(predicted)):\n",
    "    if testLabels[i] == predicted[i]:\n",
    "        correct += 1\n",
    "    total += 1\n",
    "\n",
    "print(\"We have \", correct/total * 100, \"% accuracy with \", epochN, \" epoches and L1\\L2 regularisation\", sep='')"
   ]
  },
  {
   "cell_type": "markdown",
   "metadata": {},
   "source": [
    "### Making weights heatmap"
   ]
  },
  {
   "cell_type": "code",
   "execution_count": 11,
   "metadata": {},
   "outputs": [
    {
     "data": {
      "image/png": "[encoded data removed]",
      "text/plain": [
       "<matplotlib.figure.Figure at 0x7fce3cff0080>"
      ]
     },
     "metadata": {},
     "output_type": "display_data"
    }
   ],
   "source": [
    "weightMatrixNumpy = weightMatrix.detach().numpy()\n",
    "plt.imshow(weightMatrixNumpy, cmap='hot', interpolation='nearest')\n",
    "plt.show()"
   ]
  },
  {
   "cell_type": "markdown",
   "metadata": {},
   "source": [
    "I have some random pixels become zeros, nothing more:(\n",
    "#### But surely, accuracy grows up from 50% to about 60%."
   ]
  },
  {
   "cell_type": "markdown",
   "metadata": {},
   "source": [
    "### 2. Universal approximation theorem\n",
    "\n",
    "What if we add more layers to our model? Namely, we train two matrix $W_2$ and $W_1$\n",
    "$$softmax(W_2\\cdot(W_1x)).$$\n",
    "\n",
    "At first glance adding more parameters helps to increase the generalizing ability of the model. Buy actually we have the same model $softmax(Wx)$, where $W = W_2\\cdot W_1$. But everyting changes with adding ome more layer. Let's add nonlinear function $\\sigma$ between $W_2$ and $W_1$\n",
    "\n",
    "$$softmax(W_2\\cdot \\sigma(W_1x)).$$\n",
    "\n",
    "Kurt Hornik showed in 1991 that it is not the specific choice of the nonlinear function, but rather the multilayer feedforward architecture itself which gives neural networks the potential of being universal approximators. The output units are always assumed to be linear. For notational convenience, only the single output case will be shown. The general case can easily be deduced from the single output case.\n",
    "\n",
    "Let $\\sigma(\\cdot)$ be a nonconstant, bounded, and monotonically-increasing continuous function.\n",
    "Let $\\mathcal{S}_m \\subset \\mathbb{R}^m$ denote any compact set. \n",
    "Then, given any $\\varepsilon > 0$ and any coninuous function $f$ on $\\mathcal{S}_m$, there exist an integer $N$ and real constants $v_i$, $b_i$ amd real vectors $w_i$ that\n",
    "\n",
    "$$\\left| \\sum _{i=1}^{N}v_{i}\\sigma \\left( w_i^{T} x+b_i \\right) - f(x) \\right| < \\varepsilon, ~~~ \\forall x \\in \\mathcal{S}_m.$$\n",
    "\n",
    "The theorem has non-constructive proof, it meams that no estimates for $N$ and no method to find approximation's parameters.\n",
    "\n",
    "#### Exercises\n",
    "1. Let $\\sigma$ – [heaviside step function](https://en.wikipedia.org/wiki/Heaviside_step_function) and $x \\in \\{0, 1\\}^2$. Prove that $y = \\sigma(wx + b)$ can approximate boolean function **OR** (hint: use constructive proof).\n",
    "2. What about **AND** function?\n",
    "3. Is it possible to implement **XOR**? Prove your words.\n",
    "4. Prove that 2-layer network can implement any boolean function.\n",
    "\n",
    "#### More useful facts:\n",
    "1. A 2-layer network in in $\\mathbb{R}^n$ allows to define convex polyhedron..\n",
    "2. A 3-layer network in в $\\mathbb{R}^n$ allows to define a not necessarily convex and not even necessarily connected area."
   ]
  },
  {
   "cell_type": "markdown",
   "metadata": {},
   "source": [
    "### Let's try: $\\textbf{OR}$\n",
    "\n",
    "Put: $w = (w_1, w_2)$\n",
    "\n",
    "$1)~x = \\{0, 0\\}, 0 \\vee 0 = 0$\n",
    "\n",
    "$$\\sigma(wx + b) = \\sigma(b) = 0$$ то есть $b\\leq 0$\n",
    "\n",
    "$2)~x = \\{0, 1\\} = \\{1, 0\\} = \\{1, 1\\}, 0\\vee1 = 1\\vee0 = 1\\vee 1= 1$\n",
    "\n",
    "$$\\sigma(wx + b) = 1 = \\sigma(w_1 + b) = \\sigma(w_2 + b) = \\sigma(w_1+w_2+b)$$\n",
    "\n",
    "Now: $b = -1, w_1=w_2 = 2$. \n",
    "\n",
    "Done!"
   ]
  },
  {
   "cell_type": "markdown",
   "metadata": {},
   "source": [
    "### Once again $\\textbf{AND}$\n",
    "\n",
    "Put: $w = (w_1, w_2)$\n",
    "\n",
    "$1)~x = \\{0, 0\\} = \\{0, 1\\} = \\{1, 0\\}, 0 \\wedge 0 = 0 \\wedge 1 = 1 \\wedge 0 = 0$\n",
    "\n",
    "$$\\sigma(wx + b) = \\sigma(b) = \\sigma(w_1 + b) = \\sigma(w_2 + b) = 0$$ то есть $b < 0, w_1 + b < 0, w_2 + b < 0$\n",
    "\n",
    "$2)~x = \\{1, 1\\}, 1\\wedge 1= 1$\n",
    "\n",
    "$$\\sigma(wx + b) = \\sigma(w_1+w_2+b) = 1$$\n",
    "\n",
    "$w_1 + w_2 + b \\geq 0$\n",
    "\n",
    "Now: $b = -3, w_1=w_2 = 2$. \n",
    "\n",
    "Done!"
   ]
  },
  {
   "cell_type": "markdown",
   "metadata": {},
   "source": [
    "### Let's see if $\\textbf{XOR}$ can stop us\n",
    "\n",
    "Put: $w = (w_1, w_2)$\n",
    "\n",
    "$1)~x = \\{0, 0\\} = \\{1, 1\\}, 0 \\oplus 0 = 1 \\oplus 1 = 0$\n",
    "\n",
    "$$\\sigma(wx + b) = \\sigma(b) = \\sigma(w_1 + w_2 + b) = 0$$ то есть $b < 0, w_1 + w_2 + b < 0$\n",
    "\n",
    "$2)~x = \\{1, 0\\} = \\{0, 1\\}, 1\\oplus 0 = 0\\oplus 1= 1$\n",
    "\n",
    "$$\\sigma(wx + b) = \\sigma(w_1+b) = \\sigma(w_2+b) = 1$$\n",
    "\n",
    "$w_1 + b \\geq 0, w_2 + b \\geq 0$\n",
    "\n",
    "But this time we can add $b$ to $b + w_1 + w_2$ and get value $< 0$.\n",
    "\n",
    "Also we can summarize $w_1 + b $ and $w_2 + b$ and get value $\\geq 0$\n",
    "\n",
    "Strict look at two previous strings can cause some contradiction.\n",
    "\n",
    "Done!"
   ]
  },
  {
   "cell_type": "markdown",
   "metadata": {},
   "source": [
    "### Some more words: \n",
    "We can approximate Sheffer stroke (it would be reversed $\\textbf{AND}$ coefs). With it we're able to aprox any boolean function. Ez:)"
   ]
  },
  {
   "cell_type": "markdown",
   "metadata": {},
   "source": [
    "### 3. Backpropagation\n",
    "Backpropagation is a method used to calculate the error contribution of each layer after a batch of data. It is a special case of an older and more general technique called automatic differentiation. In the context of learning, backpropagation is commonly used by the gradient descent optimization algorithm to adjust the weight of layers by calculating the gradient of the loss function. This technique is also sometimes called backward propagation of errors, because the error is calculated at the output and distributed back through the network layers. The main motivation of method is simplify evaluation of gradient which is complex problem for multilayer nets.\n",
    "\n",
    "We need the following notation. Let $(y^1,\\dots,y^n) = f(x^1,\\dots,x^n)$ is some differentiable function and $\\frac{dy}{dx}$ is matrix\n",
    "$$\\frac{dy}{dx} = \\Big[ J_{ij} = \\frac{\\partial y^i}{\\partial x^j} \\Big]$$\n",
    "\n",
    "Without violating the generality, we can assume that each layer is a function $x_{i} = f(x_{i-1}, w_i)$. As last layer we add loss function, so we can assume our multi-layer net as function $Q(x_0) = Q(f_n(f_{n-1}(\\dots, w_{n-1}), w_n))$.\n",
    "\n",
    "#### Forward step\n",
    "Propagation forward through the network to generate the output values. Calculation of the loss function.\n",
    "\n",
    "#### Backward step\n",
    "Let's look at last layer. We can simply find $\\frac{dQ}{dx_n}$. Now we can evaluate \n",
    "\n",
    "$$\\frac{dQ}{dw_n} = \\frac{dQ}{dx_n}\\frac{dx_n}{dw_n} \\text{ and } \\frac{dQ}{dx_{n-1}} = \\frac{dQ}{dx_n}\\frac{dx_n}{dx_{n-1}}$$\n",
    "\n",
    "Now we need calculate $\\frac{dQ}{dw_{n-2}}$ и $\\frac{dQ}{dx_{n-2}}$. But we have the same situation. We know $\\frac{dQ}{dx_k}$, so can evaluate $\\frac{dQ}{dw_k}$ and $\\frac{dQ}{dx_{k-1}}$. Repeating this operation we find all the gradients. Now it's only remains to make a gradient step to update weights.\n",
    "\n",
    "#### Exercises\n",
    "1. Read more about [vanishing gradient](https://en.wikipedia.org/wiki/Vanishing_gradient_problem).\n",
    "2. Train 2 layer net. Use sigmoid as nonlinearity.\n",
    "3. Check accuracy on validation set.\n",
    "4. Use [ReLu](https://en.wikipedia.org/wiki/Rectifier_(neural_networks) or LeakyReLu as nonlinearity. Compare accuracy and convergence with previous model.\n",
    "5. Play with different architectures (add more layers, regularization and etc).\n",
    "6. Show your best model.\n",
    "7. How does quality change with adding layers. Prove your words, train model for 2, 3, 5, 7 and 10 layers.\n",
    "8. Using backpropagation find optimal  digit 8 for your net.*"
   ]
  },
  {
   "cell_type": "markdown",
   "metadata": {},
   "source": [
    "## Cur nn"
   ]
  },
  {
   "cell_type": "code",
   "execution_count": 101,
   "metadata": {},
   "outputs": [],
   "source": [
    "class Net(nn.Module):\n",
    "    def __init__(self):\n",
    "        super(Net, self).__init__()\n",
    "        self.fc1 = nn.Linear(784, 250)\n",
    "        self.fc2 = nn.Linear(250, 100)\n",
    "        self.fc3 = nn.Linear(100, 10)\n",
    "    def forward(self, x):\n",
    "        x = F.leaky_relu(self.fc1(x))\n",
    "        x = F.leaky_relu(self.fc2(x))\n",
    "        x = F.leaky_relu(self.fc3(x))\n",
    "        return F.softmax(x, dim=1)"
   ]
  },
  {
   "cell_type": "markdown",
   "metadata": {},
   "source": [
    "### Reusing L1/L2 net, probably gonna toss parameters here."
   ]
  },
  {
   "cell_type": "code",
   "execution_count": 102,
   "metadata": {},
   "outputs": [],
   "source": [
    "def trainL1L2(epoch, trainFeatures, trainLabels):\n",
    "    optimizer = optim.SGD(net.parameters(), lr = 0.01, momentum=0.9)\n",
    "    data = np.asarray(trainFeatures)\n",
    "    data = torch.from_numpy(data)\n",
    "    data = data.float()\n",
    "    \n",
    "    target = np.asarray(trainLabels)\n",
    "    target = torch.from_numpy(target)\n",
    "    target = target.long()\n",
    "    for i in range(epoch):\n",
    "        optimizer.zero_grad()\n",
    "        output = net(data)\n",
    "\n",
    "        criterion = nn.CrossEntropyLoss()\n",
    "        loss = criterion(output, target)\n",
    "        l1Loss = 0\n",
    "        l2Loss = 0\n",
    "\n",
    "        lambda1 = 0.002\n",
    "        lambda2 = 0.002\n",
    "        for param in net.fc1.weight:\n",
    "            l1Loss += torch.sum(torch.abs(param))\n",
    "            l2Loss += torch.sum(param ** 2)\n",
    "        for param in net.fc2.weight:\n",
    "            l1Loss += torch.sum(torch.abs(param))\n",
    "            l2Loss += torch.sum(param ** 2)    \n",
    "        loss += lambda1 * l1Loss + lambda2 * l2Loss\n",
    "        \n",
    "        loss.backward()\n",
    "        optimizer.step()\n",
    "    print(\"Train finished.\")\n"
   ]
  },
  {
   "cell_type": "markdown",
   "metadata": {},
   "source": [
    "### Train and evalutaion"
   ]
  },
  {
   "cell_type": "code",
   "execution_count": 99,
   "metadata": {},
   "outputs": [
    {
     "name": "stdout",
     "output_type": "stream",
     "text": [
      "Train finished.\n",
      "We have 84.27% accuracy with 150 epoches\n",
      "Train finished.\n",
      "We have 76.03999999999999% accuracy with 150 epoches\n",
      "Train finished.\n",
      "We have 75.49% accuracy with 150 epoches\n",
      "Train finished.\n",
      "We have 67.0% accuracy with 150 epoches\n",
      "Train finished.\n",
      "We have 75.69% accuracy with 150 epoches\n",
      "In average we have 75.69800000000001% with 150 epoches\n"
     ]
    }
   ],
   "source": [
    "tryNum = 5\n",
    "totalAccuracy = 0\n",
    "for tries in range(tryNum):\n",
    "    epoches = 150\n",
    "    net = Net()\n",
    "    trainL1L2(epoches, trainFeatures, trainLabels)\n",
    "    outputs = net(torch.from_numpy(np.asarray(testFeatures)).float())\n",
    "    _, predicted = torch.max(outputs, 1)\n",
    "    predicted = predicted.numpy()\n",
    "    correct, total = 0, 0\n",
    "    for i in range(len(predicted)):\n",
    "        if testLabels[i] == predicted[i]:\n",
    "            correct += 1\n",
    "        total += 1\n",
    "\n",
    "    print(\"We have \", correct/total * 100, \"% accuracy with \", epoches, \" epoches\", sep='')\n",
    "    totalAccuracy += correct/total * 100\n",
    "print(\"In average we have \", totalAccuracy/tryNum, \"% with \", epoches, \" epoches\", sep='')"
   ]
  },
  {
   "cell_type": "markdown",
   "metadata": {},
   "source": [
    "## To avoid rewriting cells let's write down results for different activaion functions and layers amount:"
   ]
  },
  {
   "cell_type": "code",
   "execution_count": 100,
   "metadata": {},
   "outputs": [
    {
     "name": "stdout",
     "output_type": "stream",
     "text": [
      "62.216% with 150 epoches, L1\\L2 regularisation & sigmoid activation, 2 layers.\n",
      "75.052% with 150 epoches, L1\\L2 regularisation & ReLu activation, 2 layers.\n",
      "65.564% with 150 epoches, ReLu activation, 2 layers.\n",
      "79.98% with 150 epoches, L1\\L2 regularisation & Leaky ReLu activation, 2 layers.\n",
      "85.908% with 150 epoches, L1\\L2 regularisation & Leaky ReLu activation, 3 layers.\n",
      "75.698% with 150 epoches, L1\\L2 regularisation & Leaky ReLu activation, 5 layers .\n"
     ]
    }
   ],
   "source": [
    "print(62.216, \"% with \", epoches, \" epoches, L1\\L2 regularisation & sigmoid activation, \", 2, \" layers.\", sep='')\n",
    "print(75.052, \"% with \", epoches, \" epoches, L1\\L2 regularisation & ReLu activation, \", 2, \" layers.\", sep='')\n",
    "print(65.564, \"% with \", epoches, \" epoches, ReLu activation, \", 2, \" layers.\", sep='')\n",
    "print(79.98, \"% with \", epoches, \" epoches, L1\\L2 regularisation & Leaky ReLu activation, \", 2, \" layers.\", sep='')\n",
    "print(85.908, \"% with \", epoches, \" epoches, L1\\L2 regularisation & Leaky ReLu activation, \", 3, \" layers.\", sep='')\n",
    "print(75.698, \"% with \", epoches, \" epoches, L1\\L2 regularisation & Leaky ReLu activation, \", 5, \" layers .\", sep='')\n"
   ]
  },
  {
   "cell_type": "markdown",
   "metadata": {},
   "source": [
    "### Surely, adding more layers reduces accuracy, so we gonna stop at 3 layers, leacky ReLy and L1/L2 with 150 epoches. Will leave it there"
   ]
  },
  {
   "cell_type": "markdown",
   "metadata": {},
   "source": [
    "### 4. Autoencoders\n",
    "An autoencoder is an network used for unsupervised learning of efficient codings. The aim of an autoencoder is to learn a representation (encoding) for a set of data, typically for the purpose of dimensionality reduction. Also, this technique can be used to train deep nets.\n",
    "\n",
    "Architecturally, the simplest form of an autoencoder is a feedforward net very similar to the multilayer perceptron (MLP), but with the output layer having the same number of nodes as the input layer, and with the purpose of reconstructing its own inputs. Therefore, autoencoders are unsupervised learning models. An autoencoder always consists of two parts, the encoder and the decoder. Encoder returns latent representation of the object (compressed representation, usuallu smaller dimension), but decoder restores object from this latent representation. Autoencoders are also trained to minimise reconstruction errors (e.g. MSE).\n",
    "\n",
    "Various techniques exist to prevent autoencoders from learning the identity and to improve their ability to capture important information:\n",
    "1. Denoising autoencoder - take a partially corrupted input.\n",
    "2. Sparse autoencoder - impose sparsity on the hidden units during training (whilst having a larger number of hidden units than inputs).\n",
    "3. Variational autoencoder models inherit autoencoder architecture, but make strong assumptions concerning the distribution of latent variables.\n",
    "4. Contractive autoencoder - add an explicit regularizer in objective function that forces the model to learn a function that is robust to slight variations of input values.\n",
    "\n",
    "#### Exercises\n",
    "1. Train 2 layers autoencoder that compressed mnist images to $\\mathbb{R}^3$ space.\n",
    "2. For each digit plot several samples in 3D axis (use \"%matplotlib notebook\" mode or plotly). How do digits group?\n",
    "3. Train autoencoder with more layers. What are results?\n",
    "4. Use autoencoder to pretrain 2 layers (unsupervised) and then train the following layers with supervised method."
   ]
  },
  {
   "cell_type": "code",
   "execution_count": null,
   "metadata": {},
   "outputs": [],
   "source": []
  }
 ],
 "metadata": {
  "kernelspec": {
   "display_name": "Python 3",
   "language": "python",
   "name": "python3"
  },
  "language_info": {
   "codemirror_mode": {
    "name": "ipython",
    "version": 3
   },
   "file_extension": ".py",
   "mimetype": "text/x-python",
   "name": "python",
   "nbconvert_exporter": "python",
   "pygments_lexer": "ipython3",
   "version": "3.6.4"
  }
 },
 "nbformat": 4,
 "nbformat_minor": 1
}
