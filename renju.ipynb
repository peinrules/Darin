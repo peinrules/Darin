{
 "cells": [
  {
   "cell_type": "code",
   "execution_count": 1,
   "metadata": {},
   "outputs": [],
   "source": [
    "import numpy as np\n",
    "import matplotlib.pyplot as plt\n",
    "from scipy import stats\n",
    "import math"
   ]
  },
  {
   "cell_type": "code",
   "execution_count": 2,
   "metadata": {},
   "outputs": [
    {
     "name": "stdout",
     "output_type": "stream",
     "text": [
      "cpu\n"
     ]
    }
   ],
   "source": [
    "import numpy as np\n",
    "import matplotlib.pyplot as plt\n",
    "\n",
    "import torch.nn as nn\n",
    "import torch.nn.functional as F\n",
    "import torch.optim as optim\n",
    "\n",
    "import torch\n",
    "import torchvision\n",
    "import torchvision.transforms as transforms\n",
    "\n",
    "import PIL\n",
    "from PIL import Image\n",
    "\n",
    "from torch.utils.data.dataset import Dataset\n",
    "from torchvision import transforms\n",
    "\n",
    "import pandas as pd \n",
    "\n",
    "device = torch.device(\"cuda:0\" if torch.cuda.is_available() else \"cpu\")\n",
    "torch.backends.cudnn.benchmark = True\n",
    "\n",
    "print(device)"
   ]
  },
  {
   "cell_type": "code",
   "execution_count": 5,
   "metadata": {},
   "outputs": [
    {
     "name": "stdout",
     "output_type": "stream",
     "text": [
      "(1984694,)\n"
     ]
    }
   ],
   "source": [
    "data = np.loadtxt('train-1.txt', dtype=str, delimiter = '\\n')\n",
    "print(data.shape)"
   ]
  },
  {
   "cell_type": "code",
   "execution_count": 154,
   "metadata": {},
   "outputs": [
    {
     "name": "stdout",
     "output_type": "stream",
     "text": [
      "8518\n"
     ]
    }
   ],
   "source": []
  },
  {
   "cell_type": "code",
   "execution_count": 9,
   "metadata": {},
   "outputs": [],
   "source": [
    "blacks = 0\n",
    "whites = 0"
   ]
  },
  {
   "cell_type": "code",
   "execution_count": 10,
   "metadata": {},
   "outputs": [],
   "source": [
    "for elem in data:\n",
    "    if elem[0] == 'b':\n",
    "        blacks += 1\n",
    "    elif elem[0] == 'w':\n",
    "        whites += 1"
   ]
  },
  {
   "cell_type": "code",
   "execution_count": 41,
   "metadata": {},
   "outputs": [
    {
     "data": {
      "text/plain": [
       "(1019906, 921217)"
      ]
     },
     "execution_count": 41,
     "metadata": {},
     "output_type": "execute_result"
    }
   ],
   "source": [
    "blacks, whites"
   ]
  },
  {
   "cell_type": "code",
   "execution_count": 57,
   "metadata": {},
   "outputs": [],
   "source": [
    "dataBlack = np.empty(blacks, dtype = '<U718')\n",
    "dataWhite = np.empty(whites, dtype = '<U718')"
   ]
  },
  {
   "cell_type": "code",
   "execution_count": 58,
   "metadata": {},
   "outputs": [
    {
     "data": {
      "text/plain": [
       "array(['', '', '', ..., '', '', ''], dtype='<U718')"
      ]
     },
     "execution_count": 58,
     "metadata": {},
     "output_type": "execute_result"
    }
   ],
   "source": [
    "dataBlack"
   ]
  },
  {
   "cell_type": "code",
   "execution_count": 59,
   "metadata": {},
   "outputs": [],
   "source": [
    "curBlack = 0\n",
    "curWhite = 0"
   ]
  },
  {
   "cell_type": "code",
   "execution_count": 60,
   "metadata": {},
   "outputs": [
    {
     "data": {
      "text/plain": [
       "dtype('<U718')"
      ]
     },
     "execution_count": 60,
     "metadata": {},
     "output_type": "execute_result"
    }
   ],
   "source": [
    "data.dtype"
   ]
  },
  {
   "cell_type": "code",
   "execution_count": 61,
   "metadata": {},
   "outputs": [],
   "source": [
    "for i in range(data.shape[0]):\n",
    "    if data[i][0] == 'b':\n",
    "        dataBlack[curBlack] = data[i]\n",
    "        curBlack += 1\n",
    "    elif data[i][0] == 'w':\n",
    "        dataWhite[curWhite] = data[i]\n",
    "        curWhite += 1"
   ]
  },
  {
   "cell_type": "code",
   "execution_count": 64,
   "metadata": {},
   "outputs": [],
   "source": [
    "np.savetxt('dataBlack.txt', dataBlack, delimiter='\\n', fmt=\"%s\")"
   ]
  },
  {
   "cell_type": "code",
   "execution_count": 65,
   "metadata": {},
   "outputs": [],
   "source": [
    "np.savetxt('dataWhite.txt', dataWhite, delimiter='\\n', fmt=\"%s\")"
   ]
  },
  {
   "cell_type": "code",
   "execution_count": null,
   "metadata": {},
   "outputs": [],
   "source": []
  },
  {
   "cell_type": "code",
   "execution_count": 128,
   "metadata": {},
   "outputs": [],
   "source": [
    "blackTurnBoard = np.ones(shape=(15, 15), dtype=np.int8)\n",
    "whiteTurnBoard = -np.ones(shape=(15, 15), dtype=np.int8)"
   ]
  },
  {
   "cell_type": "code",
   "execution_count": 213,
   "metadata": {},
   "outputs": [],
   "source": [
    "def toTurn(turn):\n",
    "    letter = ord(turn[0]) - ord('a')\n",
    "    num = int(turn[1:]) - 1\n",
    "    return letter, num\n",
    "\n",
    "def toBoards(gameBad, color):\n",
    "    game = gameBad.split()\n",
    "    res = []\n",
    "    labels = []\n",
    "    if color == \"black\":\n",
    "        playerBoard = blackTurnBoard\n",
    "    else:\n",
    "        playerBoard = whiteTurnBoard\n",
    "        \n",
    "    curPlayer = 1\n",
    "    whiteBoard = np.zeros(shape=(15, 15), dtype=np.int8)\n",
    "    blackBoard = np.zeros(shape=(15, 15), dtype=np.int8)\n",
    "    \n",
    "    for i in range(1, len(game)):\n",
    "        curBoard = np.zeros(shape=(3, 15, 15))\n",
    "        curBoard[1,:] = blackBoard\n",
    "        curBoard[2,:] = whiteBoard\n",
    "        turn = toTurn(game[i])\n",
    "        if i % 2 == 1 and color == \"black\":\n",
    "            curBoard[0,:] = playerBoard\n",
    "            res.append(curBoard)\n",
    "            labels.append(turn[0] * 15 + turn[1])\n",
    "        elif i % 2 == 0 and color == \"white\":\n",
    "            curBoard[0,:] = playerBoard\n",
    "            res.append(curBoard)\n",
    "            labels.append(turn[0] * 15 + turn[1])\n",
    "\n",
    "        \n",
    "        if curPlayer == 1:\n",
    "            blackBoard[turn] = 1\n",
    "        else:\n",
    "            whiteBoard[turn] = -1\n",
    "\n",
    "\n",
    "        curPlayer *= -1\n",
    "        #printBoard(curBoard)\n",
    "    return np.asarray(res), np.asarray(labels)"
   ]
  },
  {
   "cell_type": "code",
   "execution_count": 214,
   "metadata": {},
   "outputs": [],
   "source": [
    "def printBoard(board):\n",
    "    for i in range(14, -1, -1):\n",
    "        for j in range(15):\n",
    "            if board[1, i, j] != 0:\n",
    "                print(\" 1\",  end='')\n",
    "            elif board[2, i, j] != 0:\n",
    "                print(\"-1\", end='')\n",
    "            else:\n",
    "                print(\" 0\", end='')\n",
    "        print()\n",
    "    print()"
   ]
  },
  {
   "cell_type": "markdown",
   "metadata": {},
   "source": [
    "#### Black"
   ]
  },
  {
   "cell_type": "code",
   "execution_count": 13,
   "metadata": {},
   "outputs": [
    {
     "name": "stdout",
     "output_type": "stream",
     "text": [
      "9902\n",
      "11099\n"
     ]
    }
   ],
   "source": [
    "fileSizeBlack = 1019906 // 103\n",
    "print(fileSizeBlack)\n",
    "fileSizeWhite = 921217 // 83\n",
    "print(fileSizeWhite)"
   ]
  },
  {
   "cell_type": "code",
   "execution_count": 14,
   "metadata": {
    "scrolled": true
   },
   "outputs": [
    {
     "ename": "NameError",
     "evalue": "name 'toBoards' is not defined",
     "output_type": "error",
     "traceback": [
      "\u001b[0;31m---------------------------------------------------------------------------\u001b[0m",
      "\u001b[0;31mNameError\u001b[0m                                 Traceback (most recent call last)",
      "\u001b[0;32m<ipython-input-14-706375750906>\u001b[0m in \u001b[0;36m<module>\u001b[0;34m\u001b[0m\n\u001b[1;32m      5\u001b[0m         \u001b[0mansLabels\u001b[0m \u001b[0;34m=\u001b[0m \u001b[0mnp\u001b[0m\u001b[0;34m.\u001b[0m\u001b[0mndarray\u001b[0m\u001b[0;34m(\u001b[0m\u001b[0mshape\u001b[0m\u001b[0;34m=\u001b[0m\u001b[0;36m0\u001b[0m\u001b[0;34m,\u001b[0m \u001b[0mdtype\u001b[0m\u001b[0;34m=\u001b[0m\u001b[0mnp\u001b[0m\u001b[0;34m.\u001b[0m\u001b[0mint16\u001b[0m\u001b[0;34m)\u001b[0m\u001b[0;34m\u001b[0m\u001b[0;34m\u001b[0m\u001b[0m\n\u001b[1;32m      6\u001b[0m         \u001b[0;32mfor\u001b[0m \u001b[0mi\u001b[0m \u001b[0;32min\u001b[0m \u001b[0mrange\u001b[0m\u001b[0;34m(\u001b[0m\u001b[0;36m1000\u001b[0m\u001b[0;34m)\u001b[0m\u001b[0;34m:\u001b[0m\u001b[0;34m\u001b[0m\u001b[0;34m\u001b[0m\u001b[0m\n\u001b[0;32m----> 7\u001b[0;31m             \u001b[0mres\u001b[0m\u001b[0;34m,\u001b[0m \u001b[0mlabels\u001b[0m \u001b[0;34m=\u001b[0m \u001b[0mtoBoards\u001b[0m\u001b[0;34m(\u001b[0m\u001b[0mdataBlack\u001b[0m\u001b[0;34m[\u001b[0m\u001b[0mcurFile\u001b[0m \u001b[0;34m*\u001b[0m \u001b[0mfileSizeBlack\u001b[0m \u001b[0;34m+\u001b[0m \u001b[0mgm\u001b[0m \u001b[0;34m*\u001b[0m \u001b[0;36m1000\u001b[0m \u001b[0;34m+\u001b[0m \u001b[0mi\u001b[0m\u001b[0;34m]\u001b[0m\u001b[0;34m,\u001b[0m \u001b[0;34m\"black\"\u001b[0m\u001b[0;34m)\u001b[0m\u001b[0;34m\u001b[0m\u001b[0;34m\u001b[0m\u001b[0m\n\u001b[0m\u001b[1;32m      8\u001b[0m             \u001b[0mansFeatures\u001b[0m \u001b[0;34m=\u001b[0m \u001b[0mnp\u001b[0m\u001b[0;34m.\u001b[0m\u001b[0mconcatenate\u001b[0m\u001b[0;34m(\u001b[0m\u001b[0;34m(\u001b[0m\u001b[0mansFeatures\u001b[0m\u001b[0;34m,\u001b[0m \u001b[0mres\u001b[0m\u001b[0;34m)\u001b[0m\u001b[0;34m,\u001b[0m \u001b[0maxis\u001b[0m\u001b[0;34m=\u001b[0m\u001b[0;36m0\u001b[0m\u001b[0;34m)\u001b[0m\u001b[0;34m\u001b[0m\u001b[0;34m\u001b[0m\u001b[0m\n\u001b[1;32m      9\u001b[0m             \u001b[0mansLabels\u001b[0m \u001b[0;34m=\u001b[0m \u001b[0mnp\u001b[0m\u001b[0;34m.\u001b[0m\u001b[0mconcatenate\u001b[0m\u001b[0;34m(\u001b[0m\u001b[0;34m(\u001b[0m\u001b[0mansLabels\u001b[0m\u001b[0;34m,\u001b[0m \u001b[0mlabels\u001b[0m\u001b[0;34m)\u001b[0m\u001b[0;34m,\u001b[0m \u001b[0maxis\u001b[0m\u001b[0;34m=\u001b[0m\u001b[0;36m0\u001b[0m\u001b[0;34m)\u001b[0m\u001b[0;34m\u001b[0m\u001b[0;34m\u001b[0m\u001b[0m\n",
      "\u001b[0;31mNameError\u001b[0m: name 'toBoards' is not defined"
     ]
    }
   ],
   "source": [
    "curFile = 0\n",
    "for curFile in range(103):\n",
    "    for gm in range(10):\n",
    "        ansFeatures = np.ndarray(shape=(0, 3, 15, 15), dtype=np.int8)\n",
    "        ansLabels = np.ndarray(shape=0, dtype=np.int16)\n",
    "        for i in range(1000):\n",
    "            res, labels = toBoards(dataBlack[curFile * fileSizeBlack + gm * 1000 + i], \"black\")\n",
    "            ansFeatures = np.concatenate((ansFeatures, res), axis=0)\n",
    "            ansLabels = np.concatenate((ansLabels, labels), axis=0)\n",
    "\n",
    "            \n",
    "        print(ansFeatures.shape)\n",
    "        curStrFeatures = \"poses/blackF\" + str(curFile) + \".npy\"\n",
    "        curStrLabels = \"poses/blackL\" + str(curFile) + \".npy\"\n",
    "\n",
    "        np.save(curStrFeatures, ansFeatures)\n",
    "        np.save(curStrLabels, ansLabels)\n",
    "\n",
    "        curFile += 1\n",
    "\n",
    "    "
   ]
  },
  {
   "cell_type": "code",
   "execution_count": null,
   "metadata": {},
   "outputs": [],
   "source": [
    "ans.shape[0] / 20"
   ]
  },
  {
   "cell_type": "code",
   "execution_count": null,
   "metadata": {},
   "outputs": [],
   "source": []
  },
  {
   "cell_type": "code",
   "execution_count": null,
   "metadata": {},
   "outputs": [],
   "source": []
  },
  {
   "cell_type": "code",
   "execution_count": null,
   "metadata": {},
   "outputs": [],
   "source": []
  },
  {
   "cell_type": "code",
   "execution_count": 3,
   "metadata": {},
   "outputs": [],
   "source": [
    "class CustomDatasetFromGames(Dataset):\n",
    "    def __init__(self, numBlack, numWhite=0):\n",
    "        # Read data\n",
    "        self.feature_arr = np.concatenate([np.load(\"poses/blackF\" + str(i) + \".npy\") for i in range(numBlack)])\n",
    "        self.label_arr = np.concatenate([np.load(\"poses/blackL\" + str(i) + \".npy\") for i in range(numBlack)])\n",
    "        \n",
    "        # Calculate len\n",
    "        self.data_len = (self.feature_arr).shape[0]\n",
    "        \n",
    "    def __getitem__(self, index):\n",
    "        # Get ndarray from index\n",
    "        feature = self.feature_arr[index]\n",
    "        label = self.label_arr[index]        \n",
    "        return (torch.from_numpy(feature).float(), label)\n",
    "\n",
    "    def __len__(self):\n",
    "        return self.data_len\n"
   ]
  },
  {
   "cell_type": "code",
   "execution_count": 9,
   "metadata": {},
   "outputs": [],
   "source": [
    "datasetBlack = CustomDatasetFromGames(30)\n",
    "trainLoaderBlack = torch.utils.data.DataLoader(dataset=datasetBlack, batch_size=32, shuffle=False)"
   ]
  },
  {
   "cell_type": "code",
   "execution_count": 10,
   "metadata": {},
   "outputs": [],
   "source": [
    "class Net(nn.Module):\n",
    "    def __init__(self):\n",
    "        super(Net, self).__init__()\n",
    "        self.batchnorm = nn.BatchNorm2d(3, affine=False)\n",
    "        self.conv1 = nn.Conv2d(3, 3, 3)\n",
    "        self.pad = nn.ConstantPad2d(1, 0)\n",
    "        self.conv2 = nn.Conv2d(3, 2, 3)\n",
    "        self.conv3 = nn.Conv2d(2, 1, 3)\n",
    "\n",
    "    def forward(self, x):\n",
    "        #x = self.batchnorm(x.double())\n",
    "        x = self.pad(F.relu(self.conv1(x)))\n",
    "        x = self.pad(F.relu(self.conv2(x)))\n",
    "        x = self.pad(F.relu(self.conv3(x)))\n",
    "\n",
    "        x = x.view(-1, 225)\n",
    " \n",
    "        return x"
   ]
  },
  {
   "cell_type": "code",
   "execution_count": 11,
   "metadata": {},
   "outputs": [],
   "source": [
    "net = Net()\n",
    "net = net.to(device)\n",
    "criterion = nn.CrossEntropyLoss()\n",
    "optimizer = optim.Adam(net.parameters(), lr=0.001)\n",
    "#optimizer = optim.SGD(net.parameters(), lr=0.01, momentum=0.9)"
   ]
  },
  {
   "cell_type": "code",
   "execution_count": 12,
   "metadata": {},
   "outputs": [
    {
     "name": "stdout",
     "output_type": "stream",
     "text": [
      "[1,   200] loss: 5.416\n",
      "[1,   400] loss: 5.416\n",
      "[1,   600] loss: 5.416\n",
      "[1,   800] loss: 5.416\n",
      "[1,  1000] loss: 5.416\n",
      "[1,  1200] loss: 5.416\n",
      "[1,  1400] loss: 5.416\n",
      "[1,  1600] loss: 5.416\n",
      "[1,  1800] loss: 5.416\n",
      "[1,  2000] loss: 5.416\n",
      "[1,  2200] loss: 5.416\n",
      "[1,  2400] loss: 5.416\n",
      "[1,  2600] loss: 5.416\n",
      "[1,  2800] loss: 5.416\n",
      "[1,  3000] loss: 5.416\n",
      "[1,  3200] loss: 5.416\n",
      "[1,  3400] loss: 5.416\n",
      "[1,  3600] loss: 5.416\n",
      "[1,  3800] loss: 5.416\n",
      "[1,  4000] loss: 5.416\n",
      "[1,  4200] loss: 5.416\n",
      "[1,  4400] loss: 5.416\n",
      "[1,  4600] loss: 5.416\n",
      "[1,  4800] loss: 5.416\n",
      "[1,  5000] loss: 5.416\n",
      "[1,  5200] loss: 5.416\n",
      "[1,  5400] loss: 5.416\n",
      "[1,  5600] loss: 5.416\n",
      "[1,  5800] loss: 5.416\n",
      "[1,  6000] loss: 5.416\n",
      "[1,  6200] loss: 5.416\n",
      "[1,  6400] loss: 5.416\n",
      "[1,  6600] loss: 5.416\n",
      "[1,  6800] loss: 5.416\n",
      "[1,  7000] loss: 5.416\n",
      "[1,  7200] loss: 5.416\n",
      "[1,  7400] loss: 5.416\n",
      "[1,  7600] loss: 5.416\n",
      "[1,  7800] loss: 5.416\n",
      "[1,  8000] loss: 5.416\n",
      "[1,  8200] loss: 5.416\n",
      "[1,  8400] loss: 5.416\n",
      "[1,  8600] loss: 5.416\n",
      "[1,  8800] loss: 5.416\n",
      "[1,  9000] loss: 5.416\n",
      "[1,  9200] loss: 5.416\n",
      "[1,  9400] loss: 5.416\n",
      "[1,  9600] loss: 5.416\n",
      "[1,  9800] loss: 5.416\n",
      "[1, 10000] loss: 5.416\n",
      "[1, 10200] loss: 5.416\n",
      "[1, 10400] loss: 5.416\n",
      "[1, 10600] loss: 5.416\n",
      "[1, 10800] loss: 5.416\n",
      "[1, 11000] loss: 5.416\n",
      "[1, 11200] loss: 5.416\n",
      "[1, 11400] loss: 5.416\n",
      "[1, 11600] loss: 5.416\n",
      "[1, 11800] loss: 5.416\n",
      "[1, 12000] loss: 5.416\n",
      "[1, 12200] loss: 5.416\n",
      "[1, 12400] loss: 5.416\n",
      "[1, 12600] loss: 5.416\n",
      "[1, 12800] loss: 5.416\n",
      "[1, 13000] loss: 5.416\n",
      "[1, 13200] loss: 5.416\n",
      "[1, 13400] loss: 5.416\n",
      "[1, 13600] loss: 5.416\n",
      "[1, 13800] loss: 5.416\n",
      "[1, 14000] loss: 5.416\n",
      "[1, 14200] loss: 5.416\n",
      "[1, 14400] loss: 5.416\n",
      "[1, 14600] loss: 5.416\n",
      "[1, 14800] loss: 5.416\n",
      "[1, 15000] loss: 5.416\n",
      "[1, 15200] loss: 5.416\n",
      "[1, 15400] loss: 5.416\n",
      "[1, 15600] loss: 5.416\n",
      "[1, 15800] loss: 5.416\n",
      "[1, 16000] loss: 5.416\n",
      "Finished Training\n"
     ]
    }
   ],
   "source": [
    "for epoch in range(1):  # loop over the dataset multiple times\n",
    "    running_loss = 0.0 \n",
    "    \n",
    "    for i, data in enumerate(trainLoaderBlack, 0):\n",
    "        # get the inputs\n",
    "        inputs, labels = data\n",
    "        inputs, labels = inputs.to(device), labels.to(device)\n",
    "\n",
    "        # zero the parameter gradients\n",
    "        optimizer.zero_grad()\n",
    "\n",
    "        # forward + backward + optimize\n",
    "        outputs = net(inputs)\n",
    "        loss = criterion(outputs, labels)\n",
    "        loss.backward()\n",
    "        optimizer.step()\n",
    "        \n",
    "        # print statistics\n",
    "        running_loss += loss.item()\n",
    "        if i % 200 == 199:\n",
    "            print('[%d, %5d] loss: %.3f' %\n",
    "                  (epoch + 1, i + 1, running_loss / 200))\n",
    "            running_loss = 0.0\n",
    "print('Finished Training')"
   ]
  },
  {
   "cell_type": "markdown",
   "metadata": {},
   "source": [
    "## Game (we are white)"
   ]
  },
  {
   "cell_type": "code",
   "execution_count": null,
   "metadata": {},
   "outputs": [],
   "source": [
    "def toTripleBoard(board, side):\n",
    "    curBoard = np.zeros(shape=(3, 15, 15), dtype=np.int8)\n",
    "    blackBoard = np.zeros(shape=(15, 15), dtype=np.int8)\n",
    "    whiteBoard = np.zeros(shape=(15, 15), dtype=np.int8)\n",
    "\n",
    "    if side == 1:\n",
    "        blackTurnBoard = np.ones(shape=(15, 15), dtype=np.int8)\n",
    "    else:\n",
    "        blackTurnBoard = -np.ones(shape=(15, 15), dtype=np.int8)\n",
    "    curBoard[0,:] = blackTurnBoard\n",
    "    for i in range(15):\n",
    "        for j in range(15):\n",
    "            if board[i, j] == 1:\n",
    "                blackBoard[i, j] = 1\n",
    "            if board[i, j] == -1:\n",
    "                whiteBoard[i, j] = -1\n",
    "    curBoard[1,:] = blackBoard\n",
    "    curBoard[2,:] = whiteBoard\n",
    "    return curBoard\n"
   ]
  },
  {
   "cell_type": "code",
   "execution_count": null,
   "metadata": {},
   "outputs": [],
   "source": [
    "curBoard = np.zeros(shape=(15, 15), dtype=np.int8)\n",
    "\n",
    "while True:\n",
    "    board = toTripleBoard(board, 1)\n",
    "    netTurn = net(board)\n",
    "    turn = (netTurn // 15, netTurn % 15)\n",
    "    curBoard[turn] = 1\n",
    "    for i in range(15):\n",
    "        for j in range(15):\n",
    "            if curBoard[i, j] == -1:\n",
    "                print(-1, end=\"\")\n",
    "            else:\n",
    "                print(curBoard[i, j], end=\" \")\n",
    "        print()\n",
    "    myTurn = list(map(int, input().split()))\n",
    "    curBoard[myTurn] = -1\n",
    "    for i in range(15):\n",
    "        for j in range(15):\n",
    "            if curBoard[i, j] == -1:\n",
    "                print(-1, end=\"\")\n",
    "            else:\n",
    "                print(curBoard[i, j], end=\" \")\n",
    "        print()"
   ]
  }
 ],
 "metadata": {
  "kernelspec": {
   "display_name": "Python 3",
   "language": "python",
   "name": "python3"
  },
  "language_info": {
   "codemirror_mode": {
    "name": "ipython",
    "version": 3
   },
   "file_extension": ".py",
   "mimetype": "text/x-python",
   "name": "python",
   "nbconvert_exporter": "python",
   "pygments_lexer": "ipython3",
   "version": "3.7.1"
  }
 },
 "nbformat": 4,
 "nbformat_minor": 1
}
