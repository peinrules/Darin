{
 "cells": [
  {
   "cell_type": "markdown",
   "metadata": {},
   "source": [
    "## L1 – Linear models and gradient descent\n",
    "\n",
    "### Books\n",
    "1. [Deep Learning, I. Goodfellow, Y. Bengio and A. Courville](http://www.deeplearningbook.org/)\n",
    "2. [Neural networks for pattern recognition, C. Bishop](http://cs.du.edu/~mitchell/mario_books/Neural_Networks_for_Pattern_Recognition_-_Christopher_Bishop.pdf)\n",
    "3. [Machine learning: a probabilistic perspective, K. Murphy](http://dsd.future-lab.cn/members/2015nlp/Machine_Learning.pdf)"
   ]
  },
  {
   "cell_type": "markdown",
   "metadata": {},
   "source": [
    "### 0. Basic classification\n",
    "\n",
    "Here you can find basic (possible, non standard) classification of [machine learning](https://en.wikipedia.org/wiki/Machine_learning) problems.\n",
    "1. [Supervised learning](https://en.wikipedia.org/wiki/Supervised_learning)\n",
    " 1. [Regression](https://en.wikipedia.org/wiki/Regression_analysis)\n",
    " 2. [Classification](https://en.wikipedia.org/wiki/Statistical_classification)\n",
    " 3. [Ranking](https://en.wikipedia.org/wiki/Learning_to_rank)\n",
    "2. [Reinforcment learning](https://en.wikipedia.org/wiki/Reinforcement_learning)\n",
    "3. [Unsupervised learning](https://en.wikipedia.org/wiki/Unsupervised_learning)\n",
    " 1. Clustering \n",
    " 2. Manifold learning\n",
    " 3. Matrix decompostion (factorization)\n",
    " 4. Dimension reduction\n",
    " \n",
    "In this lab we focus on supervised learning only. Namely, linear regression and binary linear classification, as simple methods for beginning."
   ]
  },
  {
   "cell_type": "markdown",
   "metadata": {},
   "source": [
    "### 1. Supervised learning basics\n",
    "A supervised learning algorithm is an algorithm that is able to learn from data. Now we need only to clarify what is data and what it means to learn?\n",
    "\n",
    "Let $\\{x_i\\}_{i=1}^{\\mathcal{l}} \\subset \\mathbb{X} = \\mathbb{R}^{n}$ and $\\{y_i\\}_{i=1}^{\\mathcal{l}} \\subset \\mathbb{Y}$. Here $\\mathbb{X}$ is the whole set of objects and $\\mathbb{Y}$ is all possible labels, so $\\{x_i\\}_{i=1}^{\\mathcal{l}}$ is subset with known labels $\\{y_i\\}_{i=1}^{\\mathcal{l}}$. We want to find algorithm, that can predict $y$ for any $x \\in \\mathbb{X}$. Actually, $x = (x^1, \\dots, x^n)$ is some vector of features (formal description), but $x^k$ can have different nature. \n",
    "\n",
    "* $x^k \\in \\{0, 1\\}$ – binary feature, boolean flag\n",
    "* $x^k \\in \\{1,\\dots, m\\}$ – categorical (nominal), classification of entities into particular categories.\n",
    "* $x^k \\in \\{1,\\dots, m\\}^<$ – ordinal, classification of entities in some kind of ordered relationship.\n",
    "* $x^k \\in \\mathbb{R}$ – cardinal, classification based on a numerical value.\n",
    "\n",
    "Categorical features are commonly encoded in some way (for exaple [one-hot encoding](https://en.wikipedia.org/wiki/One-hot)) to ignore false ordering (important for metric algorithms). Moreover it's possible to cast any type of feature to $\\mathbb{R}$, that's why we suppouse that $\\mathbb{X} = \\mathbb{R}^{n}$ further.\n",
    "\n",
    "Process of finding algorithm, that can predict labels, is called training. Usually, it is reduced to minimization problem of the empirical risk.\n",
    "$$\\arg \\min_{\\theta} Q(\\theta) = \\arg \\min_{\\theta} \\frac{1}{\\mathcal{l}}\\sum_{i=1}^{\\mathcal{l}} \\mathcal{L}(f(x_i | \\theta), y_i).$$\n",
    "Here $\\mathcal{L}$ – some loss function that shows how good we predict $y$, and $f(x|\\theta)$ is parametric function, where $\\theta \\in \\Theta$."
   ]
  },
  {
   "cell_type": "markdown",
   "metadata": {},
   "source": [
    "### 2. Linear regression\n",
    "For regression task $\\mathbb{Y} = \\mathbb{R}$. In case of linear model we have learning vector of parameters $w \\in \\mathbb{R}^n$ and predict $y$ as \n",
    "$$y = w^Tx + b.$$\n",
    "\n",
    "For simplicity, let the last element of $x$ is always $1$ and $w$ is concatenation of $[w, b]$. So, we can rewrite model as $y = w^Tx$. For MSE (mean square error) we have following optimization problem\n",
    "$$\\arg \\min_{w} Q(w) = \\arg \\min_{w} \\sum_{i=1}^{\\mathcal{l}}\\big(w^Tx_i - y_i\\big)^2.$$\n",
    "\n",
    "Let $X$ is a matrix, where $i$-th row is a feature vector of $i$-th object and $Y$ – a vector of labels. In this case our expression can be rewritten in matrix form\n",
    "$$\\arg\\min_{w}||Xw - Y ||_{2}.$$\n",
    "But this problem is already well studied and has the analytical solution\n",
    "$$w = (X^TX)^{-1}X^TY.$$\n",
    "\n",
    "#### Exercises\n",
    "1. Let $y = sin(x) + \\varepsilon$, where $x \\in [0, 2\\pi]$ and $\\varepsilon \\sim \\mathcal{N}(0, 0.1)$. Generate 20 train samples and train regression model.\n",
    "2. Plot train data and model's predictions.\n",
    "3. As you can see, model has no enough capacity to fit train data. Let's add polynomial features, namely $x^2$ and $x^3$.\n",
    "4. Train linear model one more time and plot results again.\n",
    "5. What happens if you add more features, for example full range $x^{0},\\dots,x^{7}$? "
   ]
  },
  {
   "cell_type": "code",
   "execution_count": 1,
   "metadata": {},
   "outputs": [],
   "source": [
    "from sklearn import linear_model\n",
    "import numpy as np\n",
    "import matplotlib.pyplot as plt\n"
   ]
  },
  {
   "cell_type": "markdown",
   "metadata": {},
   "source": [
    "## Approximation with polynom with custom power"
   ]
  },
  {
   "cell_type": "code",
   "execution_count": 2,
   "metadata": {},
   "outputs": [],
   "source": [
    "reg = linear_model.LinearRegression(fit_intercept=False) # Model\n",
    "trainDataSize = 20 # Sample number\n",
    "mu, sigma = 0, 0.1 # Normal distribution params\n",
    "\n",
    "dimensionN = 8 # Poynom's power"
   ]
  },
  {
   "cell_type": "code",
   "execution_count": 3,
   "metadata": {},
   "outputs": [],
   "source": [
    "trainDataFeaturesX = np.random.uniform(0, 2 * np.pi, trainDataSize) # Linear feature\n",
    "trainDataFeaturesX = np.sort(trainDataFeaturesX)\n",
    "trainDataDataFeatures = np.zeros((dimensionN, trainDataSize))\n",
    "trainDataDataFeatures[0] = trainDataFeaturesX\n",
    "\n",
    "for i in range(1, dimensionN): # Higher degree features\n",
    "    trainDataDataFeatures[i] = trainDataDataFeatures[0] * trainDataDataFeatures[i - 1]"
   ]
  },
  {
   "cell_type": "code",
   "execution_count": 4,
   "metadata": {},
   "outputs": [],
   "source": [
    "trainDataFeatures = np.zeros((trainDataSize, dimensionN)) # Regrouping features\n",
    "for i in range(trainDataSize):\n",
    "    for j in range(dimensionN):\n",
    "        trainDataFeatures[i][j] = trainDataDataFeatures[j][i]"
   ]
  },
  {
   "cell_type": "code",
   "execution_count": 5,
   "metadata": {},
   "outputs": [
    {
     "data": {
      "text/plain": [
       "LinearRegression(copy_X=True, fit_intercept=False, n_jobs=1, normalize=False)"
      ]
     },
     "execution_count": 5,
     "metadata": {},
     "output_type": "execute_result"
    }
   ],
   "source": [
    "trainDataLabels = np.sin(trainDataFeaturesX) + np.random.normal(mu, sigma, size=trainDataSize) # Labels\n",
    "reg.fit(trainDataFeatures, trainDataLabels) # Learning"
   ]
  },
  {
   "cell_type": "markdown",
   "metadata": {},
   "source": [
    "#### Plotting"
   ]
  },
  {
   "cell_type": "code",
   "execution_count": 6,
   "metadata": {},
   "outputs": [
    {
     "data": {
      "image/png": "[encoded data removed]",
      "text/plain": [
       "<matplotlib.figure.Figure at 0x7f374eaf8b70>"
      ]
     },
     "metadata": {},
     "output_type": "display_data"
    }
   ],
   "source": [
    "plt.plot(trainDataFeaturesX, trainDataLabels, 'ro') # Plotting train data\n",
    "x = np.arange(0.0, 2 * np.pi, 0.01) \n",
    "plt.plot(x, np.sin(x)) # Plotting sin\n",
    "polynom = reg.intercept_\n",
    "for i in range(1, dimensionN + 1):\n",
    "    polynom += x**i * reg.coef_[i - 1]\n",
    "plt.plot(x, polynom) # Plotting predicted polynom\n",
    "plt.axis([0, 2*np.pi, -1.1, 1.1])\n",
    "plt.show()\n",
    "    "
   ]
  },
  {
   "cell_type": "markdown",
   "metadata": {},
   "source": [
    "### 3. Validation\n",
    "The data used to build the final model usually comes from multiple datasets. In particular, three data sets are commonly used in different stages of the creation of the model.\n",
    "\n",
    "1. We initially fit our parameters on a __training dataset__, that consists of pairs of a feature vector and the corresponding answer. The current model is run with the training dataset and produces a result, which is then compared with the target, for each input vector in the training dataset. Based on the result of the comparison and the specific learning algorithm being used, the parameters of the model are adjusted. The model fitting can include both variable selection and parameter estimation.\n",
    "\n",
    "2. Second one called the __validation dataset__. The validation dataset provides an unbiased evaluation of a model fit on the training dataset while tuning the model's hyperparameters (e.g. regularization coefficient or number of hidden units in a neural network). Validation datasets can be used for regularization by early stopping: stop training when the error on the validation dataset increases, as this is a sign of overfitting to the training dataset. This simple procedure is complicated in practice by the fact that the validation dataset's error may fluctuate during training. This complication has led to the creation of many ad-hoc rules for deciding when overfitting has truly begun.\n",
    "\n",
    "3. Finally, the __test dataset__ is a dataset used to provide an unbiased evaluation of a final trained model.\n",
    "\n",
    "Cross-validation is a validation technique for estimating how accurately a predictive model will perform in practice. The goal of cross validation is to limit problems like overfitting, give an insight on how the model will generalize to an independent dataset.\n",
    "\n",
    "Cross-validation involves partitioning a sample of data into complementary subsets, performing the analysis on one subset and making validation on the other. To reduce variability, multiple rounds of cross-validation are performed using different partitions, and the validation results are caveraged over the rounds to estimate a final predictive model.\n",
    "\n",
    "There are following types:\n",
    "1. Leave-p-out cross-validation - use p observations as the validation set with all possible ways.\n",
    "2. k-fold cross-validation - split data into k folds and use each one as validation set.\n",
    "3. Holdout validation - randomly split data into training and validation set\n",
    "4. Repeated random sub-sampling validation - repeatedly make random splits of data into training and validation set\n",
    "\n",
    "#### Exercises\n",
    "1. Generate 20 validation samples\n",
    "2. Check quality of your model on train and validation sets.\n",
    "3. Have you experienced [overfitting](https://en.wikipedia.org/wiki/Overfitting)?\n",
    "4. Please, read [this article](https://en.wikipedia.org/wiki/VC_dimension) to learn more about model capacity and VC-dimension."
   ]
  },
  {
   "cell_type": "code",
   "execution_count": 7,
   "metadata": {},
   "outputs": [],
   "source": [
    "validationDataSize = 20\n",
    "validationDataFeaturesX = np.random.uniform(0, 2 * np.pi, validationDataSize) # Linear feature for validation dataset\n",
    "validationDataFeaturesX = np.sort(validationDataFeaturesX)"
   ]
  },
  {
   "cell_type": "markdown",
   "metadata": {},
   "source": [
    "### Creating validation data and comparing train and validation scrore to check for overfitting\n"
   ]
  },
  {
   "cell_type": "code",
   "execution_count": 8,
   "metadata": {},
   "outputs": [],
   "source": [
    "validationDataDataFeatures = np.zeros((dimensionN, validationDataSize))\n",
    "validationDataDataFeatures[0] = validationDataFeaturesX\n",
    "\n",
    "for i in range(1, dimensionN): # Higher degree features\n",
    "    validationDataDataFeatures[i] = validationDataDataFeatures[0] * validationDataDataFeatures[i - 1]"
   ]
  },
  {
   "cell_type": "code",
   "execution_count": 9,
   "metadata": {},
   "outputs": [],
   "source": [
    "validationDataFeatures = np.zeros((validationDataSize, dimensionN)) # Regrouping features\n",
    "for i in range(validationDataSize):\n",
    "    for j in range(dimensionN):\n",
    "        validationDataFeatures[i][j] = validationDataDataFeatures[j][i]"
   ]
  },
  {
   "cell_type": "code",
   "execution_count": 10,
   "metadata": {},
   "outputs": [],
   "source": [
    "validationDataLabels = np.sin(validationDataFeaturesX) + np.random.normal(mu, sigma, size=validationDataSize) # Validation Labels"
   ]
  },
  {
   "cell_type": "markdown",
   "metadata": {},
   "source": [
    "#### Scoring"
   ]
  },
  {
   "cell_type": "code",
   "execution_count": 11,
   "metadata": {},
   "outputs": [
    {
     "name": "stdout",
     "output_type": "stream",
     "text": [
      "0.9836082915570887\n",
      "0.9569975606226944\n"
     ]
    }
   ],
   "source": [
    "print(reg.score(trainDataFeatures, trainDataLabels)) # Score on train data\n",
    "print(reg.score(validationDataFeatures, validationDataLabels)) # Score on test data"
   ]
  },
  {
   "cell_type": "markdown",
   "metadata": {},
   "source": [
    "#### During scoring on validation dataset I expirienced some overfitting. Score on validation data jumps from -1 to almost one."
   ]
  },
  {
   "cell_type": "markdown",
   "metadata": {},
   "source": [
    "### 4. Binary linear classification\n",
    "Let $\\mathbb{Y} = \\{-1, +1\\}$ for binary classification. So linear model looks like\n",
    "$$sign(w^Tx + b),$$\n",
    "where $w$ is a normal to the separating plane, which is defined parametrically $w^Tx+b=0$. In the half-space, which normal is directed, all points has class +1, otherwise -1. Let's assume that all points of hyperplane has class +1 to resolve the ambiguity. Also we rewrite model in the short variant $sign(w^Tx)$.\n",
    "\n",
    "As with regression, training of linear classifier may be reduced to an optimization problem. We only have to specify the loss function. The most nature option is\n",
    "$$\\mathcal{L}(y_{pred}, y_{true}) = [y_{pred} \\neq y_{true}] = [M < 0],$$\n",
    "where $M$ is the margin value $yw^Tx$, which indicates how far the classifier puts a point in its class. But this loss has one drawback, it's not differentiable. That's why the optimization problem becomes very complex. However we can use any other function, which majorizes this loss. You can find some popular options below\n",
    "\n",
    "1. MSE has one big advantage, we optimize convex function with a local minimum. Moreover analytic solution exists.\n",
    "$$\\big(w^Tx - y \\big)^2$$\n",
    "\n",
    "2. Hinge loss function makes our linear classifier [SVM](https://en.wikipedia.org/wiki/Support_vector_machine) (support vector machine).\n",
    "$$max \\big(0, 1 - yw^Tx \\big)$$\n",
    "\n",
    "3. Logistic loss function has a probabilistic meaning. In particular, this loss leads us to the optimal [Bayesian classifier](https://en.wikipedia.org/wiki/Naive_Bayes_classifier) under certain assumptions on the distribution of features. But it's a different story. So it is often used in practice.\n",
    "$$\\ln \\big( 1 + \\exp(-yw^Tx) \\big)$$"
   ]
  },
  {
   "cell_type": "markdown",
   "metadata": {},
   "source": [
    "#### Exercises\n",
    "1. Read [this](https://en.wikipedia.org/wiki/Maximum_likelihood_estimation) article about MLE.\n",
    "2. Get the likelihood function for a random [Bernoulli](https://en.wikipedia.org/wiki/Bernoulli_distribution) value with the probability $p$ of a successful outcome.\n",
    "3. Let's suppouse that our estimation of $p$ is $\\sigma(w^Tx)$, where $\\sigma(z) = \\frac{1}{1 + \\exp(-z)}$. Show that Logistic loss function $$\\arg\\min_{w} \\sum_{x, y} \\ln \\big(1 + \\exp(-yw^Tx )) \\big)$$ is nothing like the maximization of the likelihood.\n",
    "4. Plot all loss functions in the axes $M \\times L$.\n",
    "5. Generate two normally distributed sets of points on the plane.\n",
    "6. Let points of 1th set (red color) have class +1 and point of 2d set (blue color) have -1.\n",
    "7. Train linear classifier with MSE (use analytical solution), which splits these sets.\n",
    "8. Plot points and separating line of trained classifier.\n",
    "9. What is time comlexity of your solution?"
   ]
  },
  {
   "cell_type": "code",
   "execution_count": 12,
   "metadata": {},
   "outputs": [],
   "source": [
    "from scipy.stats import bernoulli\n",
    "\n",
    "def likehood(p): \n",
    "    return bernoulli.rvs(p)"
   ]
  },
  {
   "cell_type": "markdown",
   "metadata": {},
   "source": [
    "### Loss functions"
   ]
  },
  {
   "cell_type": "code",
   "execution_count": 13,
   "metadata": {},
   "outputs": [],
   "source": [
    "def MSE(M): # Where M is margin: y <w^T, x> = sign(<w^T, x>)\n",
    "    return (M - 1)**2\n",
    "def hingeLoss(M):\n",
    "    return ((1 - M) > 0) * (1 - M)\n",
    "def logLoss(M):\n",
    "    return np.log(1 + np.exp(-M))"
   ]
  },
  {
   "cell_type": "markdown",
   "metadata": {},
   "source": [
    "#### Plotting"
   ]
  },
  {
   "cell_type": "code",
   "execution_count": 14,
   "metadata": {},
   "outputs": [
    {
     "data": {
      "image/png": "[encoded data removed]",
      "text/plain": [
       "<matplotlib.figure.Figure at 0x7f374eb1deb8>"
      ]
     },
     "metadata": {},
     "output_type": "display_data"
    }
   ],
   "source": [
    "x = np.arange(0.0, 2.0, 0.01)\n",
    "plt.plot(x, logLoss(x), label=\"Log Loss\")\n",
    "plt.plot(x, MSE(x), label=\"MSE\")\n",
    "plt.plot(x, hingeLoss(x), label=\"Hinge Loss\")\n",
    "plt.legend()\n",
    "plt.show()\n"
   ]
  },
  {
   "cell_type": "markdown",
   "metadata": {},
   "source": [
    "### Setting parameters for normal distribution"
   ]
  },
  {
   "cell_type": "code",
   "execution_count": 15,
   "metadata": {},
   "outputs": [],
   "source": [
    "mean1 = [0 + np.random.normal(0, 0.1), 0 + np.random.normal(0, 0.1)] # Distribution parameters (lets make some random)\n",
    "mean2 = [4 + np.random.normal(0, 0.1), 4 + np.random.normal(0, 0.1)]\n",
    "cov = [[1, 0], [0, 1]]\n",
    "clusterSize = 300\n"
   ]
  },
  {
   "cell_type": "code",
   "execution_count": 16,
   "metadata": {},
   "outputs": [],
   "source": [
    "x1, y1 = np.random.multivariate_normal(mean1, cov, clusterSize).T\n",
    "x2, y2 = np.random.multivariate_normal(mean2, cov, clusterSize).T\n",
    "\n",
    "cluster1 = np.zeros((clusterSize, 3))\n",
    "cluster2 = np.zeros((clusterSize, 3))\n",
    "for i in range(clusterSize):\n",
    "    cluster1[i] = [x1[i], y1[i], 1]\n",
    "    cluster2[i] = [x2[i], y2[i], 1]"
   ]
  },
  {
   "cell_type": "markdown",
   "metadata": {},
   "source": [
    "### Making train data"
   ]
  },
  {
   "cell_type": "code",
   "execution_count": 17,
   "metadata": {},
   "outputs": [],
   "source": [
    "trainDataFeatures = np.zeros((clusterSize * 2, 3)) \n",
    "trainDataLabels = np.zeros(clusterSize * 2)\n",
    "for i in range(clusterSize):\n",
    "    trainDataFeatures[2 * i] = cluster1[i]\n",
    "    trainDataFeatures[2 * i + 1] = cluster2[i]\n",
    "    trainDataLabels[2 * i] = 1\n",
    "    trainDataLabels[2 * i + 1] = -1"
   ]
  },
  {
   "cell_type": "code",
   "execution_count": 18,
   "metadata": {},
   "outputs": [
    {
     "name": "stdout",
     "output_type": "stream",
     "text": [
      "[-0.22567671 -0.22345872  0.89451203]\n"
     ]
    }
   ],
   "source": [
    "X = trainDataFeatures\n",
    "Y = trainDataLabels\n",
    "# Analytical solution\n",
    "w = np.linalg.inv((X.T).dot(X)).dot(X.T).dot(Y)\n",
    "print(w)\n"
   ]
  },
  {
   "cell_type": "markdown",
   "metadata": {},
   "source": [
    "#### Plotting"
   ]
  },
  {
   "cell_type": "code",
   "execution_count": 19,
   "metadata": {},
   "outputs": [
    {
     "data": {
      "image/png": "[encoded data removed]",
      "text/plain": [
       "<matplotlib.figure.Figure at 0x7f3744025cc0>"
      ]
     },
     "metadata": {},
     "output_type": "display_data"
    }
   ],
   "source": [
    "Axis = np.arange(-2, 6.5)\n",
    "# Plotting separate line\n",
    "plt.plot(Axis, -(Axis * w[0] + w[2])/ w[1])\n",
    "\n",
    "plt.plot(x1, y1, 'x', color = 'red')\n",
    "plt.plot(x2, y2, 'x', color = 'lightblue')\n",
    "plt.axis('equal')\n",
    "plt.show()\n"
   ]
  },
  {
   "cell_type": "markdown",
   "metadata": {},
   "source": [
    "### Complexity is O(featuresNum $\\cdot$ samplesNum), cause we need only three matix multiplication and one inversion"
   ]
  },
  {
   "cell_type": "markdown",
   "metadata": {},
   "source": [
    "### 5. Gradient descent\n",
    "Gradient descent is a first-order iterative optimization algorithm for finding the minimum of a function. To find a local minimum of a function using gradient descent, one takes steps proportional to the negative of the gradient of the function at the current point. Gradient descent is based on the observation that if function $Q(x)$ is defined and differentiable in a neighborhood of a point $x$, then $Q(x)$ decreases fastest if one goes from $x$  in the direction of the negative gradient.\n",
    "\n",
    "$$x^{k+1} = x^{k} - \\lambda \\cdot \\triangledown Q(x)$$\n",
    "\n",
    "Here $\\lambda$ is step of descent and  $k$ – step number. If $\\lambda$ is too large then algorithm may not converge, otherwise training can last a long time. Also there is rather popular hack to slowly decrease $\\lambda$ with each step. You need to understand that gradient descent finds exactly local minimum. The easiest way to fight this problem is make several runs of algorithm or have good initialization.\n",
    "\n",
    "#### Exercises\n",
    "1. Suggest some quadratic function $Q: \\mathbb{R}^2 \\rightarrow \\mathbb{R}$ with global minimum.\n",
    "2. Find minimum with gradient descent method.\n",
    "3. Plot contour lines.\n",
    "4. Trace the path of gradient descent.\n",
    "5. How do you choose $\\lambda$?\n",
    "6. Evaluate time complexity of solution."
   ]
  },
  {
   "cell_type": "markdown",
   "metadata": {},
   "source": [
    "### Initialize functions "
   ]
  },
  {
   "cell_type": "code",
   "execution_count": 20,
   "metadata": {},
   "outputs": [],
   "source": [
    "def foo(x, y):\n",
    "    return (x-1) * (x-1) + (y - 1) * (y - 1) - x * y\n",
    "def Rosenbrock(x, y):\n",
    "    return (1 - x) * (1 - x) + 100 * (y - x * x) ** 2\n",
    "def gradient(x, y): # Gradient of foo function\n",
    "    return (2 * x - 2 - y, 2 * y - 2 - x)\n",
    "def gradientR(x, y): # Gradient of Rosenbrock function\n",
    "    return (400 * x * x * x - 400 * x * y + 2 * x - 2, 200 * y - 200 * x * x)\n"
   ]
  },
  {
   "cell_type": "markdown",
   "metadata": {},
   "source": [
    "### GD parameters"
   ]
  },
  {
   "cell_type": "code",
   "execution_count": 21,
   "metadata": {},
   "outputs": [],
   "source": [
    "curX, curY = 5, 5\n",
    "Lambda = 0.3\n",
    "diff = 10\n",
    "gradTraceX = list() # GD Trace\n",
    "gradTraceY = list()"
   ]
  },
  {
   "cell_type": "markdown",
   "metadata": {},
   "source": [
    "## Gradient Descent"
   ]
  },
  {
   "cell_type": "code",
   "execution_count": 22,
   "metadata": {},
   "outputs": [
    {
     "name": "stdout",
     "output_type": "stream",
     "text": [
      "7.21194735706647e+21 -11997.4 8636256110.6\n",
      "7.778263622779773e+69 -1.2226289042161202e+16 8.968928624548266e+33\n",
      "9.758272890566524e+213 -1.293949222394437e+52 1.004582754081101e+106\n",
      "nan -1.533857306699441e+160 inf\n"
     ]
    }
   ],
   "source": [
    "while abs(diff) >= 0.01:\n",
    "    prevX, prevY = curX, curY\n",
    "    curX = curX - Lambda * gradientR(curX, curY)[0]\n",
    "    curY = curY - Lambda * gradientR(curX, curY)[1]\n",
    "    diff = Rosenbrock(curX, curY) - Rosenbrock(prevX, prevY) # Length of step\n",
    "\n",
    "    gradTraceX.append(curX)\n",
    "    gradTraceY.append(curY)\n",
    "    print(Rosenbrock(curX, curY), curX, curY)"
   ]
  },
  {
   "cell_type": "markdown",
   "metadata": {},
   "source": [
    "#### Plotting"
   ]
  },
  {
   "cell_type": "code",
   "execution_count": 23,
   "metadata": {},
   "outputs": [
    {
     "name": "stderr",
     "output_type": "stream",
     "text": [
      "/home/pavlik/anaconda3/lib/python3.6/site-packages/matplotlib/contour.py:967: UserWarning: The following kwargs were not used by contour: 'level'\n",
      "  s)\n"
     ]
    },
    {
     "data": {
      "text/plain": [
       "[<matplotlib.lines.Line2D at 0x7f374417dd30>]"
      ]
     },
     "execution_count": 23,
     "metadata": {},
     "output_type": "execute_result"
    },
    {
     "data": {
      "image/png": "[encoded data removed]",
      "text/plain": [
       "<matplotlib.figure.Figure at 0x7f374407f588>"
      ]
     },
     "metadata": {},
     "output_type": "display_data"
    }
   ],
   "source": [
    "AxisX = np.arange(-2.0, 5.0, 0.01)\n",
    "AxisY = np.arange(-2.0, 5.0, 0.01)\n",
    "X, Y = np.meshgrid(AxisX, AxisY)\n",
    "Z = Rosenbrock(X, Y)\n",
    "\n",
    "plt.figure()\n",
    "CS = plt.contour(X, Y, Z, level=np.logspace(-3, 3, 45))\n",
    "plt.clabel(CS, inline=10, fontsize=10)\n",
    "plt.plot(gradTraceX, gradTraceY, marker = '.')\n"
   ]
  },
  {
   "cell_type": "markdown",
   "metadata": {},
   "source": [
    "#### I take lambda as a ranodm number, which is approxitamely 1, or a little less"
   ]
  },
  {
   "cell_type": "markdown",
   "metadata": {},
   "source": [
    "There is category of function which naive gradient descent works poorly for, e.g. [Rosenbrock function](https://en.wikipedia.org/wiki/Rosenbrock_function).\n",
    "$$f(x, y) = (1-x)^2 + 100(y-x^2)^2.$$\n",
    "\n",
    "#### Exercises\n",
    "1. Repeat previous steps for Rosenbrock function.\n",
    "2. What problem do you face?\n",
    "3. Is there any solution?"
   ]
  },
  {
   "cell_type": "markdown",
   "metadata": {},
   "source": [
    "## You can see same steps for Rosenbrock function above\n",
    "### I face some converging problems, which I have no idea how to solve."
   ]
  },
  {
   "cell_type": "markdown",
   "metadata": {},
   "source": [
    "There are some variations of the method, for example steepest descent, where we find optimal $\\lambda$ for each step.\n",
    "$$\\lambda^{k} = \\arg\\min_{\\lambda}Q(x_k - \\lambda\\triangledown Q(x_k)).$$\n",
    "\n",
    "#### Exercises\n",
    "1. Split red and blue sets of points again. Train linear model using gradient descent and MSE.\n",
    "2. Plot your splitting line. Compare with analytical solution.\n",
    "3. Try steepest descent.\n",
    "4. Comare gradient descent methods and show its convergence in axes $[step \\times Q]$."
   ]
  },
  {
   "cell_type": "markdown",
   "metadata": {},
   "source": [
    "### 6. Stochastic gradient descent"
   ]
  },
  {
   "cell_type": "markdown",
   "metadata": {},
   "source": [
    "Sometimes you have so huge amount of data, that usual gradient descent becomes too slow. One more option, we have deal with data flow. In this case stochastic gradient method appears on the stage. The idea is simple. You can do a descent step, calculating error and gradient not for all samples, but for some small batch only.\n",
    "\n",
    "#### Еxercises\n",
    "1. Download [mnist](https://www.kaggle.com/c/digit-recognizer).\n",
    "2. Train linear classificator for digits 0 and 1, using logistic loss function and stochastic gradient descent.\n",
    "3. Use holdout to check [accuracy](https://en.wikipedia.org/wiki/Accuracy_and_precision) of classification.\n",
    "4. How do accuracy and training time depend on bathch size?\n",
    "5. Plot graphic that proves your words.\n",
    "6. How many epochs you use? Why?\n",
    "7. Plot value of loss function for each step (try use [exponential smoothing](https://en.wikipedia.org/wiki/Exponential_smoothing))."
   ]
  },
  {
   "cell_type": "code",
   "execution_count": 24,
   "metadata": {},
   "outputs": [
    {
     "name": "stdout",
     "output_type": "stream",
     "text": [
      "12665\n"
     ]
    }
   ],
   "source": [
    "from mnist import MNIST\n",
    "\n",
    "mndata = MNIST('samples')\n",
    "\n",
    "imagesTrainWhole, labelsTrainWhole = mndata.load_training()\n",
    "imagesTestWhole, labelsTestWhole = mndata.load_testing()\n",
    "\n",
    "imagesTrain = list() \n",
    "labelsTrain = list()\n",
    "imagesTest = list()\n",
    "labelsTest  = list()\n",
    "\n",
    "for i in range(len(imagesTrainWhole)):\n",
    "    if labelsTrainWhole[i] == 0 or labelsTrainWhole[i] == 1:\n",
    "        imagesTrain.append(imagesTrainWhole[i])\n",
    "        labelsTrain.append(labelsTrainWhole[i])\n",
    "\n",
    "for i in range(len(imagesTestWhole)):\n",
    "    if labelsTestWhole[i] == 0 or labelsTestWhole[i] == 1:\n",
    "        imagesTest.append(imagesTestWhole[i])\n",
    "        labelsTest.append(labelsTestWhole[i])\n",
    "\n",
    "index = 0\n",
    "print(len(imagesTrain))\n",
    "data = mndata.display(imagesTrain[index]).split('\\n')"
   ]
  },
  {
   "cell_type": "code",
   "execution_count": 25,
   "metadata": {},
   "outputs": [],
   "source": [
    "def fit_and_classify(train_features, train_labels, test_features):\n",
    "    model = linear_model.SGDClassifier()\n",
    "    model.fit(train_features, train_labels)\n",
    "    model.score(train_features, train_labels)\n",
    "    res = model.predict(test_features)\n",
    "    return res"
   ]
  },
  {
   "cell_type": "code",
   "execution_count": 26,
   "metadata": {},
   "outputs": [
    {
     "name": "stdout",
     "output_type": "stream",
     "text": [
      "12665\n"
     ]
    }
   ],
   "source": [
    "from mnist import MNIST\n",
    "\n",
    "mndata = MNIST('samples')\n",
    "\n",
    "imagesTrainWhole, labelsTrainWhole = mndata.load_training()\n",
    "imagesTestWhole, labelsTestWhole = mndata.load_testing()\n",
    "\n",
    "imagesTrainMN = list() \n",
    "labelsTrain = list()\n",
    "imagesTestMN = list()\n",
    "labelsTest  = list()\n",
    "\n",
    "for i in range(len(imagesTrainWhole)):\n",
    "    if labelsTrainWhole[i] == 0 or labelsTrainWhole[i] == 1:\n",
    "        imagesTrainMN.append(imagesTrainWhole[i])\n",
    "        labelsTrain.append(labelsTrainWhole[i])\n",
    "\n",
    "for i in range(len(imagesTestWhole)):\n",
    "    if labelsTestWhole[i] == 0 or labelsTestWhole[i] == 1:\n",
    "        imagesTestMN.append(imagesTestWhole[i])\n",
    "        labelsTest.append(labelsTestWhole[i])\n",
    "\n",
    "index = 0\n",
    "print(len(imagesTrainMN))\n",
    "data = mndata.display(imagesTrainMN[index]).split('\\n')\n",
    "\n"
   ]
  },
  {
   "cell_type": "code",
   "execution_count": 27,
   "metadata": {},
   "outputs": [],
   "source": [
    "imagesTrain = list() \n",
    "imagesTest = list() \n",
    "for i in range(len(imagesTrainMN)):\n",
    "    data = mndata.display(imagesTrainMN[i]).split('\\n')\n",
    "    imagesTrain.append(data[1:])\n",
    "for i in range(len(imagesTestMN)):\n",
    "    data = mndata.display(imagesTestMN[i]).split('\\n')\n",
    "    imagesTest.append(data[1:])\n"
   ]
  },
  {
   "cell_type": "code",
   "execution_count": 31,
   "metadata": {},
   "outputs": [],
   "source": [
    "def conc(array):\n",
    "    res = []\n",
    "    for massive in array:\n",
    "        for elem in massive:\n",
    "            res.append(elem)\n",
    "    return res\n"
   ]
  },
  {
   "cell_type": "code",
   "execution_count": 32,
   "metadata": {},
   "outputs": [],
   "source": [
    "trainFeatures = []\n",
    "trainLabels = labelsTrain\n",
    "for i in range(len(imagesTrain)):\n",
    "    curData = []\n",
    "    for j in range(len(imagesTrain[i])):\n",
    "        curData.append(vectorize(imagesTrain[i][j]))\n",
    "    trainFeatures.append(conc(curData))\n",
    "\n",
    "    testFeatures = []\n",
    "testLabels = labelsTest\n",
    "for i in range(len(imagesTest)):\n",
    "    curData = []\n",
    "    for j in range(len(imagesTest[i])):\n",
    "        curData.append(vectorize(imagesTest[i][j]))\n",
    "    testFeatures.append(conc(curData))"
   ]
  },
  {
   "cell_type": "code",
   "execution_count": 34,
   "metadata": {},
   "outputs": [
    {
     "name": "stderr",
     "output_type": "stream",
     "text": [
      "/home/pavlik/anaconda3/lib/python3.6/site-packages/sklearn/linear_model/stochastic_gradient.py:128: FutureWarning: max_iter and tol parameters have been added in <class 'sklearn.linear_model.stochastic_gradient.SGDClassifier'> in 0.19. If both are left unset, they default to max_iter=5 and tol=None. If tol is not None, max_iter defaults to max_iter=1000. From 0.21, default max_iter will be 1000, and default tol will be 1e-3.\n",
      "  \"and default tol will be 1e-3.\" % type(self), FutureWarning)\n"
     ]
    },
    {
     "name": "stdout",
     "output_type": "stream",
     "text": [
      "0.9990543735224586\n"
     ]
    }
   ],
   "source": [
    "predLabels = fit_and_classify(trainFeatures, trainLabels, testFeatures)\n",
    "total = 0\n",
    "correct = 0\n",
    "for i in range(len(predLabels)):\n",
    "    if predLabels[i] == testLabels[i]:\n",
    "        correct += 1\n",
    "    total += 1\n",
    "print(correct / total)"
   ]
  },
  {
   "cell_type": "markdown",
   "metadata": {},
   "source": [
    "#### Momentum method\n",
    "Stochastic gradient descent with momentum remembers the update of $x$ at each iteration, and determines the next update as a linear combination of the gradient and the previous update\n",
    "$$x^{k+1} = x^{k} - s^{k},$$ where $s^k = \\gamma s^{k-1} + \\lambda\\triangledown Q(x^k)$, $0 <\\gamma < 1$ – smoothing ratio and $s^{-1} = 0$.\n",
    "\n",
    "#### Еxercises\n",
    "1. Find minimum for $Q(x,y)=10x^2+y^2$ with descent method.\n",
    "2. Use momentum method and compare pathes.\n",
    "3. How do you choose $\\gamma$?"
   ]
  },
  {
   "cell_type": "markdown",
   "metadata": {},
   "source": [
    "#### Nesterov accelerated gradient\n",
    "And the logical development of this approach leads to the accelerated Nesterov's gradient. The descent step is calculated a little differently\n",
    "$$s^k = \\gamma s^{k-1} + \\lambda\\triangledown Q(x^k - \\gamma s^{k-1}),$$\n",
    "so we find gradient at the point which moment will move us.\n",
    "\n",
    "#### Еxercises\n",
    "1. Compare this method and previous with Rosenbrock function.\n",
    "2. Plot traces of both algorithms."
   ]
  },
  {
   "cell_type": "markdown",
   "metadata": {},
   "source": [
    "#### Adagrad (2011)\n",
    "Adaptive gradient finds lambda for each dimension of the input vector x. Informally speaking, for sparce features it makes a bigger step, but for regular ones smaller step.\n",
    "$$x_{i}^{k + 1} = x_{i}^{k} - \\frac{\\lambda}{\\sqrt{G_{i, i}^k } + \\varepsilon} \\cdot \\frac{\\partial Q}{\\partial x_i}(x^k),$$\n",
    "* $G^{k} = \\sum_{t=1}^{k}g_t g_t^{T}$, где $g_t = \\triangledown Q(x^t)$.\n",
    "* $\\varepsilon$ - epsilon to avoid division by zero.\n",
    "It improves convergence of the learning process (e.g. when using neural networks for text).\n",
    "\n",
    "#### RMSprop\n",
    "To avoid growth of the denominator we can use the following modification. Let's calculate the matrix $G^k$ only for a small number of latest steps, it can be done for example using exponential smoothing.\n",
    "$$G^{k+1} = \\gamma G^{k} + (1 - \\gamma)g_{k+1}g_{k+1}^{T},$$\n",
    "where $0< \\gamma < 1$ - smoothing factor\n",
    "\n",
    "#### Еxercises\n",
    "1. Read about adadelta and adam (links below).\n",
    "2. Give an example of a function that can show the difference in the studied stohastic gradient methods.\n",
    "3. Show animation step by step how methods work.\n",
    "4. Use your favorite method on mnist dataset again.\n",
    "5. Show convergence of alrotigthm.\n",
    "6. Check quality, using holdout.\n",
    "\n",
    "#### Papers\n",
    "1. [Adadelta (2012)](https://arxiv.org/pdf/1212.5701.pdf)\n",
    "2. [Adam (2015)](https://arxiv.org/pdf/1412.6980.pdf)"
   ]
  }
 ],
 "metadata": {
  "kernelspec": {
   "display_name": "Python 3",
   "language": "python",
   "name": "python3"
  },
  "language_info": {
   "codemirror_mode": {
    "name": "ipython",
    "version": 3
   },
   "file_extension": ".py",
   "mimetype": "text/x-python",
   "name": "python",
   "nbconvert_exporter": "python",
   "pygments_lexer": "ipython3",
   "version": "3.6.4"
  }
 },
 "nbformat": 4,
 "nbformat_minor": 1
}
